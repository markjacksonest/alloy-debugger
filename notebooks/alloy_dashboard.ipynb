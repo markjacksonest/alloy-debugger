{
 "cells": [
  {
   "cell_type": "code",
   "execution_count": 32,
   "id": "57952285-a54d-48c7-afdd-e59a4594a9b6",
   "metadata": {},
   "outputs": [
    {
     "name": "stdout",
     "output_type": "stream",
     "text": [
      "Initiating login request with your identity provider. A browser window should have opened for you to complete the login. If you can't see it, check existing browser windows, or your OS settings. Press CTRL+C to abort and try again...\n",
      "Going to open: https://meetearnest.okta.com/app/snowflake/exkny4h8a73d8LUPZ0x7/sso/saml?SAMLRequest=lZLRbtowFIZfJfKuEzuBEWYBFSuqmoq1FAKtuHOTA1gkdubjNNCnnwll6i5aaXeR%2Ff3OZ%2F9ncHUoC%2B8VDEqthiQMGPFAZTqXajsky%2FTG7xMPrVC5KLSCITkCkqvRAEVZVHxc252aw%2B8a0HruIIW83RiS2iiuBUrkSpSA3GZ8Mf415VHAeGW01ZkuyIfI1wmBCMY6w0skR%2Bn0dtZWnNKmaYKmE2izpRFjjLIf1FEn5NuFP7g7fcKHlHVPvCMcPnt3%2BynV%2BQm%2B0no5Q8hv03Tmzx4WKfHGF9VrrbAuwSzAvMoMlvPpWQCdwXI1jlnE4qBGHwRaPwxQ6WZTiD1kuqxq644N3BfdQE4LvZXu5slkSKq9zLN4%2FtabPDV3z9uX8Pax3EF1bBZ3b%2Bn0%2BR4m%2BePaJMkTrI7TUGfEW12qjU7VJog1JOpUqHVLLOr6IfOjXspC%2Fj3mLAo6vXBNvIkrVCph2%2BTFugSwIIxye4HeW9EKiqqif90pHPbq2N31RdzJ%2B9PlbM0OMUXU9NQxOY8NbyXM6L8fY0A%2Fxt9H8N61kkxmupDZ0bvRphT289LCIGxXZO5vWpRDKWQxznMDiK68otDNtQFh3aRbUwOho%2FNf%2F5310R8%3D&RelayState=ver%3A1-hint%3A1201229385065566-ETMsDgAAAZLGio7EABRBRVMvQ0JDL1BLQ1M1UGFkZGluZwEAABAAEGfg8MIuvXgrghlxBGEJLY8AAACAtA1i8vJz7xY1JGQzoeFQi7iQscphJLBz8K17mb1jphWjPgiplF1z%2BtyiKTtei1ZfTuHmbmVLgRoTdTkr19tjp8BaWFB5zDH6m5u%2FbfXmtaV7AMOS4CcxtDrWUtCUorxfg5Kchcm9L4zboZpFYdl%2FetcPTiLfaMagBlEovlsp8SQAFF%2Bmn98KUvj6P8TetYC%2B0h2MmOUo to authenticate...\n"
     ]
    }
   ],
   "source": [
    "import snowflake.connector\n",
    "import requests\n",
    "import json\n",
    "import os\n",
    "\n",
    "def get_snowflake_token() -> str:\n",
    "    url = os.getenv(\"SNOWFLAKE_TOKEN_GENERATOR_URL\") + \"/token\"\n",
    "    data = {\n",
    "        \"okta_username\": os.getenv(\"OKTA_USERNAME\"),\n",
    "        \"okta_password\": os.getenv(\"OKTA_PASSWORD\"),\n",
    "        \"snowflake_role\": os.getenv(\"SNOWFLAKE_ROLE\"),\n",
    "    }\n",
    "    response = requests.post(url=url, data=json.dumps(data))\n",
    "    if response.ok:\n",
    "        return response.json()[\"token\"]\n",
    "    raise ValueError(\"Error getting the token. Check your credentials.\")\n",
    "\n",
    "# print(os.environ['SNOWFLAKE_USER'], os.environ['SNOWFLAKE_PASSWORD'])\n",
    "con = snowflake.connector.connect(\n",
    "    user= f\"{os.getenv('OKTA_USERNAME')}@earnest.com\",\n",
    "    # password=os.environ['SNOWFLAKE_PASSWORD'],\n",
    "    account=os.environ['SNOWFLAKE_ACCOUNT'],\n",
    "    role=os.environ['SNOWFLAKE_ROLE'],\n",
    "    warehouse=os.environ['SNOWFLAKE_WAREHOUSE'],\n",
    "    authenticator=\"externalbrowser\",\n",
    "    # token=get_snowflake_token(),\n",
    ")"
   ]
  },
  {
   "cell_type": "code",
   "execution_count": 33,
   "id": "bde452d4-d93d-4ba9-8519-3cf305f2a7ec",
   "metadata": {},
   "outputs": [
    {
     "data": {
      "text/plain": [
       "(datetime.datetime(2024, 10, 25, 18, 57, 43, 949000, tzinfo=<DstTzInfo 'America/Los_Angeles' PDT-1 day, 17:00:00 DST>),)"
      ]
     },
     "execution_count": 33,
     "metadata": {},
     "output_type": "execute_result"
    }
   ],
   "source": [
    "cur = con.cursor().execute('select current_timestamp()')\n",
    "cur.fetchone()"
   ]
  },
  {
   "cell_type": "code",
   "execution_count": 54,
   "id": "5440c6d3-349f-4288-8654-253a57168ce0",
   "metadata": {},
   "outputs": [
    {
     "data": {
      "text/plain": [
       "datetime.date(2024, 10, 25)"
      ]
     },
     "execution_count": 54,
     "metadata": {},
     "output_type": "execute_result"
    }
   ],
   "source": [
    "from datetime import datetime, date\n",
    "datetime.today().date()"
   ]
  },
  {
   "cell_type": "code",
   "execution_count": 55,
   "id": "6a148221-87d8-4ca1-851a-9a82534ab9af",
   "metadata": {},
   "outputs": [
    {
     "data": {
      "text/plain": [
       "datetime.date(2024, 10, 5)"
      ]
     },
     "execution_count": 55,
     "metadata": {},
     "output_type": "execute_result"
    }
   ],
   "source": [
    "date(2024, 10, 5)"
   ]
  },
  {
   "cell_type": "code",
   "execution_count": 49,
   "id": "64e8719f-eeb7-430c-af95-afc13d1309b7",
   "metadata": {},
   "outputs": [
    {
     "name": "stdout",
     "output_type": "stream",
     "text": [
      "\n",
      "    with parsed_json as (select ID,\n",
      "                                try_parse_json(OUTPUT_OBJ) as OUTPUT_OBJ,\n",
      "                                try_parse_json(INPUT_OBJ)  as INPUT_OBJ,\n",
      "                                CREATION_TS\n",
      "                         from RAW_TEST.STAGING__PRICING_SERVICE_V2__PUBLIC.VIEW_STAGING__PRICING_SERVICE_LOG\n",
      "                         where product = 'slr-alloy' and CREATION_TS > '2024-11-01')\n",
      "    select\n",
      "        id,\n",
      "        VALUE:attributeValue::string as seed_id,\n",
      "        OUTPUT_OBJ,\n",
      "        INPUT_OBJ,\n",
      "        CREATION_TS\n",
      "    from parsed_json, lateral flatten(input => INPUT_OBJ:Earnest_Meta)\n",
      "    where\n",
      "        VALUE:attributeName = 'seedId' and VALUE:attributeValue::string in (\n",
      "            '14487949185843640404051566873587478166'\n",
      "        )\n",
      "    order by seed_id, CREATION_TS desc;\n",
      "    \n"
     ]
    }
   ],
   "source": [
    "from enum import Enum\n",
    "from datetime import datetime, timedelta\n",
    "from typing import List\n",
    "\n",
    "class PricingServiceLogTable(Enum):\n",
    "    staging = 'RAW_TEST.STAGING__PRICING_SERVICE_V2__PUBLIC.VIEW_STAGING__PRICING_SERVICE_LOG'\n",
    "    prod = 'RAW.PRICING_SERVICE_V2__PUBLIC.VIEW_PRICING_SERVICE_LOG'\n",
    "\n",
    "def create_seed_id_query_from_pricing_service_log_table(\n",
    "        seed_ids: List[str],\n",
    "        table_name: PricingServiceLogTable = None,\n",
    "        date: datetime.date = None\n",
    ") -> str:\n",
    "    quoted_seed_ids = map(lambda seed_id: f\"'{seed_id}'\", seed_ids)\n",
    "    seed_ids_joined = \",\".join(quoted_seed_ids)\n",
    "    table_name = table_name if table_name else PricingServiceLogTable.staging\n",
    "    date = date if date else (datetime.today().date() - timedelta(days=-7))\n",
    "    return f\"\"\"\n",
    "    with parsed_json as (select ID,\n",
    "                                try_parse_json(OUTPUT_OBJ) as OUTPUT_OBJ,\n",
    "                                try_parse_json(INPUT_OBJ)  as INPUT_OBJ,\n",
    "                                CREATION_TS\n",
    "                         from {table_name.value}\n",
    "                         where product = 'slr-alloy' and CREATION_TS > '{date.isoformat()}')\n",
    "    select\n",
    "        id,\n",
    "        VALUE:attributeValue::string as seed_id,\n",
    "        OUTPUT_OBJ,\n",
    "        INPUT_OBJ,\n",
    "        CREATION_TS\n",
    "    from parsed_json, lateral flatten(input => INPUT_OBJ:Earnest_Meta)\n",
    "    where\n",
    "        VALUE:attributeName = 'seedId' and VALUE:attributeValue::string in (\n",
    "            {seed_ids_joined}\n",
    "        )\n",
    "    order by seed_id, CREATION_TS desc;\n",
    "    \"\"\"\n",
    "\n",
    "print(create_seed_id_query_from_pricing_service_log_table(['14487949185843640404051566873587478166']))"
   ]
  },
  {
   "cell_type": "code",
   "execution_count": null,
   "id": "e0ea48a0-f09c-445a-8804-730ff20a2e6f",
   "metadata": {},
   "outputs": [],
   "source": [
    "query = create_seed_id_query_from_pricing_service_log_table(['14487949185843640404051566873587478166'], date=date(2024, 10, 1))\n",
    "cur = con.cursor().execute(query)\n",
    "cur.fetchall()"
   ]
  },
  {
   "cell_type": "code",
   "execution_count": 37,
   "id": "d1674b60-32d1-4914-9233-76d9cd84cb1b",
   "metadata": {},
   "outputs": [
    {
     "name": "stderr",
     "output_type": "stream",
     "text": [
      "/var/folders/m6/nxnqn8zx5xz8m277gc4b_plh0000gp/T/ipykernel_65437/2416432841.py:24: UserWarning: pandas only supports SQLAlchemy connectable (engine/connection) or database string URI or sqlite3 DBAPI2 connection. Other DBAPI2 objects are not tested. Please consider using SQLAlchemy.\n",
      "  df = pd.read_sql(query, con)\n"
     ]
    },
    {
     "data": {
      "text/html": [
       "<div>\n",
       "<style scoped>\n",
       "    .dataframe tbody tr th:only-of-type {\n",
       "        vertical-align: middle;\n",
       "    }\n",
       "\n",
       "    .dataframe tbody tr th {\n",
       "        vertical-align: top;\n",
       "    }\n",
       "\n",
       "    .dataframe thead th {\n",
       "        text-align: right;\n",
       "    }\n",
       "</style>\n",
       "<table border=\"1\" class=\"dataframe\">\n",
       "  <thead>\n",
       "    <tr style=\"text-align: right;\">\n",
       "      <th></th>\n",
       "      <th>ID</th>\n",
       "      <th>SEED_ID</th>\n",
       "      <th>OUTPUT_OBJ</th>\n",
       "      <th>INPUT_OBJ</th>\n",
       "      <th>CREATION_TS</th>\n",
       "    </tr>\n",
       "  </thead>\n",
       "  <tbody>\n",
       "    <tr>\n",
       "      <th>0</th>\n",
       "      <td>576790</td>\n",
       "      <td>14487949185843640404051566873587478166</td>\n",
       "      <td>{\\n  \"asset_lite_score_output\": {\\n    \"model_...</td>\n",
       "      <td>{\\n  \"Earnest_Data_Supplied\": [\\n    {\\n      ...</td>\n",
       "      <td>2024-10-23 17:08:23.885351</td>\n",
       "    </tr>\n",
       "    <tr>\n",
       "      <th>1</th>\n",
       "      <td>576789</td>\n",
       "      <td>14487949185843640404051566873587478166</td>\n",
       "      <td>None</td>\n",
       "      <td>{\\n  \"Earnest_Data_Supplied\": [\\n    {\\n      ...</td>\n",
       "      <td>2024-10-23 17:08:16.637265</td>\n",
       "    </tr>\n",
       "    <tr>\n",
       "      <th>2</th>\n",
       "      <td>576787</td>\n",
       "      <td>14487949185843640404051566873587478166</td>\n",
       "      <td>{\\n  \"asset_lite_score_output\": {\\n    \"model_...</td>\n",
       "      <td>{\\n  \"Earnest_Data_Supplied\": [\\n    {\\n      ...</td>\n",
       "      <td>2024-10-23 17:06:27.212295</td>\n",
       "    </tr>\n",
       "  </tbody>\n",
       "</table>\n",
       "</div>"
      ],
      "text/plain": [
       "       ID                                 SEED_ID  \\\n",
       "0  576790  14487949185843640404051566873587478166   \n",
       "1  576789  14487949185843640404051566873587478166   \n",
       "2  576787  14487949185843640404051566873587478166   \n",
       "\n",
       "                                          OUTPUT_OBJ  \\\n",
       "0  {\\n  \"asset_lite_score_output\": {\\n    \"model_...   \n",
       "1                                               None   \n",
       "2  {\\n  \"asset_lite_score_output\": {\\n    \"model_...   \n",
       "\n",
       "                                           INPUT_OBJ  \\\n",
       "0  {\\n  \"Earnest_Data_Supplied\": [\\n    {\\n      ...   \n",
       "1  {\\n  \"Earnest_Data_Supplied\": [\\n    {\\n      ...   \n",
       "2  {\\n  \"Earnest_Data_Supplied\": [\\n    {\\n      ...   \n",
       "\n",
       "                 CREATION_TS  \n",
       "0 2024-10-23 17:08:23.885351  \n",
       "1 2024-10-23 17:08:16.637265  \n",
       "2 2024-10-23 17:06:27.212295  "
      ]
     },
     "execution_count": 37,
     "metadata": {},
     "output_type": "execute_result"
    }
   ],
   "source": [
    "import pandas as pd\n",
    "import polars as pl\n",
    "\n",
    "query = \"\"\"with parsed_json as (select ID,\n",
    "                            try_parse_json(OUTPUT_OBJ) as OUTPUT_OBJ,\n",
    "                            try_parse_json(INPUT_OBJ)  as INPUT_OBJ,\n",
    "                            CREATION_TS\n",
    "                     from RAW_TEST.STAGING__PRICING_SERVICE_V2__PUBLIC.VIEW_STAGING__PRICING_SERVICE_LOG\n",
    "                     where product = 'slr-alloy' and CREATION_TS > '2024-10-01')\n",
    "select\n",
    "    id,\n",
    "    VALUE:attributeValue::string as seed_id,\n",
    "    OUTPUT_OBJ,\n",
    "    INPUT_OBJ,\n",
    "    CREATION_TS\n",
    "from parsed_json, lateral flatten(input => INPUT_OBJ:Earnest_Meta)\n",
    "where\n",
    "    VALUE:attributeName = 'seedId' and VALUE:attributeValue::string in (\n",
    "    '14487949185843640404051566873587478166'\n",
    "    )\n",
    "order by CREATION_TS desc\n",
    "limit 10;\"\"\"\n",
    "\n",
    "df = pd.read_sql(query, con)\n",
    "df"
   ]
  },
  {
   "cell_type": "code",
   "execution_count": 44,
   "id": "87ab8efe-5702-44c6-99df-61c981ec57cb",
   "metadata": {},
   "outputs": [
    {
     "data": {
      "text/html": [
       "<div>\n",
       "<style scoped>\n",
       "    .dataframe tbody tr th:only-of-type {\n",
       "        vertical-align: middle;\n",
       "    }\n",
       "\n",
       "    .dataframe tbody tr th {\n",
       "        vertical-align: top;\n",
       "    }\n",
       "\n",
       "    .dataframe thead th {\n",
       "        text-align: right;\n",
       "    }\n",
       "</style>\n",
       "<table border=\"1\" class=\"dataframe\">\n",
       "  <thead>\n",
       "    <tr style=\"text-align: right;\">\n",
       "      <th></th>\n",
       "      <th>ID</th>\n",
       "      <th>SEED_ID</th>\n",
       "      <th>OUTPUT_OBJ</th>\n",
       "      <th>INPUT_OBJ</th>\n",
       "      <th>CREATION_TS</th>\n",
       "      <th>missing_output</th>\n",
       "      <th>has_output</th>\n",
       "    </tr>\n",
       "  </thead>\n",
       "  <tbody>\n",
       "    <tr>\n",
       "      <th>0</th>\n",
       "      <td>576790</td>\n",
       "      <td>14487949185843640404051566873587478166</td>\n",
       "      <td>{\\n  \"asset_lite_score_output\": {\\n    \"model_...</td>\n",
       "      <td>{\\n  \"Earnest_Data_Supplied\": [\\n    {\\n      ...</td>\n",
       "      <td>2024-10-23 17:08:23.885351</td>\n",
       "      <td>True</td>\n",
       "      <td>True</td>\n",
       "    </tr>\n",
       "    <tr>\n",
       "      <th>1</th>\n",
       "      <td>576789</td>\n",
       "      <td>14487949185843640404051566873587478166</td>\n",
       "      <td>None</td>\n",
       "      <td>{\\n  \"Earnest_Data_Supplied\": [\\n    {\\n      ...</td>\n",
       "      <td>2024-10-23 17:08:16.637265</td>\n",
       "      <td>False</td>\n",
       "      <td>False</td>\n",
       "    </tr>\n",
       "    <tr>\n",
       "      <th>2</th>\n",
       "      <td>576787</td>\n",
       "      <td>14487949185843640404051566873587478166</td>\n",
       "      <td>{\\n  \"asset_lite_score_output\": {\\n    \"model_...</td>\n",
       "      <td>{\\n  \"Earnest_Data_Supplied\": [\\n    {\\n      ...</td>\n",
       "      <td>2024-10-23 17:06:27.212295</td>\n",
       "      <td>True</td>\n",
       "      <td>True</td>\n",
       "    </tr>\n",
       "  </tbody>\n",
       "</table>\n",
       "</div>"
      ],
      "text/plain": [
       "       ID                                 SEED_ID  \\\n",
       "0  576790  14487949185843640404051566873587478166   \n",
       "1  576789  14487949185843640404051566873587478166   \n",
       "2  576787  14487949185843640404051566873587478166   \n",
       "\n",
       "                                          OUTPUT_OBJ  \\\n",
       "0  {\\n  \"asset_lite_score_output\": {\\n    \"model_...   \n",
       "1                                               None   \n",
       "2  {\\n  \"asset_lite_score_output\": {\\n    \"model_...   \n",
       "\n",
       "                                           INPUT_OBJ  \\\n",
       "0  {\\n  \"Earnest_Data_Supplied\": [\\n    {\\n      ...   \n",
       "1  {\\n  \"Earnest_Data_Supplied\": [\\n    {\\n      ...   \n",
       "2  {\\n  \"Earnest_Data_Supplied\": [\\n    {\\n      ...   \n",
       "\n",
       "                 CREATION_TS  missing_output  has_output  \n",
       "0 2024-10-23 17:08:23.885351            True        True  \n",
       "1 2024-10-23 17:08:16.637265           False       False  \n",
       "2 2024-10-23 17:06:27.212295            True        True  "
      ]
     },
     "execution_count": 44,
     "metadata": {},
     "output_type": "execute_result"
    }
   ],
   "source": [
    "df['has_output'] = ~df.OUTPUT_OBJ.isna()\n",
    "df"
   ]
  },
  {
   "cell_type": "code",
   "execution_count": 51,
   "id": "59769468-fa5f-4e59-aff8-656afba9d5b2",
   "metadata": {},
   "outputs": [
    {
     "data": {
      "text/plain": [
       "ID                         int64\n",
       "SEED_ID                   object\n",
       "OUTPUT_OBJ                object\n",
       "INPUT_OBJ                 object\n",
       "CREATION_TS       datetime64[ns]\n",
       "missing_output              bool\n",
       "has_output                  bool\n",
       "dtype: object"
      ]
     },
     "execution_count": 51,
     "metadata": {},
     "output_type": "execute_result"
    }
   ],
   "source": [
    "df.dtypes"
   ]
  },
  {
   "cell_type": "code",
   "execution_count": 58,
   "id": "435facd8-c58f-4fe7-9197-e00e1f703cb3",
   "metadata": {},
   "outputs": [],
   "source": [
    "import json\n",
    "def parse_json(x):\n",
    "    return json.loads(x) if x else x\n",
    "    \n",
    "df.OUTPUT_OBJ = df.OUTPUT_OBJ.apply(parse_json)"
   ]
  },
  {
   "cell_type": "code",
   "execution_count": 62,
   "id": "02f8a4ba-a997-45e8-b448-5bbe5036f7e7",
   "metadata": {},
   "outputs": [
    {
     "data": {
      "text/plain": [
       "0     True\n",
       "1    False\n",
       "2     True\n",
       "Name: OUTPUT_OBJ, dtype: bool"
      ]
     },
     "execution_count": 62,
     "metadata": {},
     "output_type": "execute_result"
    }
   ],
   "source": [
    "def has_prices(x):\n",
    "    if x is None:\n",
    "        return False\n",
    "    return 'price_output' in x and (x['price_output'] is not None or x['price_output'] != [])\n",
    "\n",
    "df.OUTPUT_OBJ.apply(has_prices)"
   ]
  },
  {
   "cell_type": "code",
   "execution_count": 65,
   "id": "d699bdab-58da-4e8b-bd38-1c24715e13a5",
   "metadata": {},
   "outputs": [],
   "source": [
    "df['parsed_input'] = df.INPUT_OBJ.apply(parse_json)"
   ]
  },
  {
   "cell_type": "code",
   "execution_count": 66,
   "id": "0e275e9e-8cf5-403a-bd38-77e6ebad6c95",
   "metadata": {},
   "outputs": [],
   "source": [
    "\n",
    "class ExperianField(str, Enum):\n",
    "    rental_expense = \"Rental Expenses (Earnest)\"\n",
    "    sole_mortgage_expense = \"Sole Mortgage Expense (Earnest)\"\n",
    "    joint_mortgage_expense = \"Joint Mortgage Expense (Earnest)\"\n",
    "    education_loan_balance = \"Education Loan Balance\"\n",
    "    fico_score = \"FICO Score\"\n",
    "    credit_card_balance = \"Credit Card Balance\"\n",
    "    student_loan_expense = \"Student Loan Expense (Earnest)\"\n",
    "    non_real_estate_expense = \"Non-Real Estate/Education Expense (Earnest)\"\n",
    "\n",
    "\n",
    "class MetaField(str, Enum):\n",
    "    seed_id = \"seedId\"\n",
    "    applicant_role = \"applicantRole\"\n",
    "    living_situation = \"livingSituation\"\n",
    "    state = \"state\"\n",
    "    loan_amount_approved_cents = \"loan_amount_approved_cents\"\n",
    "    application_id = \"applicationId\"\n",
    "    estimate_id = \"estimateId\"\n",
    "    user_id = \"userId\"\n",
    "    claimed_housing_payment = \"claimedHousingPayment\"\n",
    "    expenses_claimed_housing_payment = \"expenses_claimedHousingPayment\"\n",
    "    verified_housing_payment = \"expenses_verifiedHousingPayment\"\n",
    "    verified_student_loan_balance = \"expenses_verifiedStudentLoanBalance\"\n",
    "    rate_map_version = \"quickScoreData_rateMapVersion\"\n",
    "    rate_map_tag = \"quickScoreData_rateMapTag\"\n",
    "    rate_adjustment_data_name = \"quickScoreData_rateAdjustmentData_name\"\n",
    "    rate_adjustment_data_amount = \"quickScoreData_rateAdjustmentData_amount\"\n",
    "    claimed_loan_amount = \"loanData_claimedLoanAmount\"\n",
    "    soft_approved_amount = \"loanData_softApprovedAmount\"\n",
    "    primary_education_loan_balance = \"primary_education_loan_balance\"\n",
    "    primary_score_curve = \"loanData_scoreOutput\"\n",
    "    primary_price_curve = \"loanData_priceOutput\"\n",
    "    primary_score_output = \"primary_score_output\"\n",
    "    primary_price_output = \"primary_price_output\"\n",
    "\n",
    "\n",
    "class EarnestOutputFields(str, Enum):\n",
    "    verified_bonus = \"verified_bonus_model\"\n",
    "    verified_checking = \"verified_checking_model\"\n",
    "    verified_child_support_or_alimony = \"verified_child_support_or_alimony_model\"\n",
    "    verified_disability = \"verified_disability_model\"\n",
    "    verified_brokerage = \"verified_brokerage_model\"\n",
    "    verified_housing_payment = \"verified_housing_payment_model\"\n",
    "    verified_k1 = \"verified_k1_model\"\n",
    "    verified_salary = \"verified_salary_model\"\n",
    "    verified_rental = \"verified_rental_model\"\n",
    "    verified_retirement = \"verified_retirement_model\"\n",
    "    verified_social_security_or_pension = \"verified_social_security_or_pension_model\"\n",
    "    verified_student_loan_balance = \"verified_student_loan_balance_model\"\n",
    "    verified_investments = \"verified_investments_model\"\n",
    "    verified_primary_student_loan_balance = \"verified_primary_student_loan_balance\"\n",
    "    plaid_assets = \"plaid_assets\"\n"
   ]
  },
  {
   "cell_type": "code",
   "execution_count": 73,
   "id": "30c7b3a0-6e5f-403f-bd3a-f5eef921843f",
   "metadata": {},
   "outputs": [
    {
     "data": {
      "text/plain": [
       "{'userId': '111729702966231', 'state': 'CA', 'FICO Score': '791'}"
      ]
     },
     "execution_count": 73,
     "metadata": {},
     "output_type": "execute_result"
    }
   ],
   "source": [
    "fields = {\n",
    "    MetaField.state.value,\n",
    "    MetaField.user_id.value,\n",
    "    EarnestOutputFields.verified_bonus.value,\n",
    "    ExperianField.fico_score.value\n",
    "}\n",
    "\n",
    "def is_not_null(val):\n",
    "    return val is not None and val != 'null' and val != ''\n",
    "\n",
    "def extract_fields(input_obj):\n",
    "    result = {}\n",
    "    for arr in [\"Earnest_Meta\", \"Earnest_Output_Attributes\", \"Experian\"]:\n",
    "        for attribute in input_obj[arr]:\n",
    "            if attribute['attributeName'] in fields and is_not_null(attribute['attributeValue']):\n",
    "                result[attribute['attributeName']] = attribute['attributeValue']\n",
    "    return result\n",
    "    \n",
    "df.parsed_input.apply(extract_fields)[0]"
   ]
  },
  {
   "cell_type": "code",
   "execution_count": null,
   "id": "d1e3a140-19bb-4ecf-a5e8-95a8955c15c5",
   "metadata": {},
   "outputs": [],
   "source": []
  }
 ],
 "metadata": {
  "kernelspec": {
   "display_name": "Python 3 (ipykernel)",
   "language": "python",
   "name": "python3"
  },
  "language_info": {
   "codemirror_mode": {
    "name": "ipython",
    "version": 3
   },
   "file_extension": ".py",
   "mimetype": "text/x-python",
   "name": "python",
   "nbconvert_exporter": "python",
   "pygments_lexer": "ipython3",
   "version": "3.11.8"
  }
 },
 "nbformat": 4,
 "nbformat_minor": 5
}
